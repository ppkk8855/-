{
 "cells": [
  {
   "cell_type": "code",
   "execution_count": 1,
   "metadata": {
    "collapsed": false
   },
   "outputs": [
    {
     "name": "stderr",
     "output_type": "stream",
     "text": [
      "C:\\Users\\coda\\Anaconda3\\envs\\tensorflow\\lib\\site-packages\\h5py\\__init__.py:36: FutureWarning: Conversion of the second argument of issubdtype from `float` to `np.floating` is deprecated. In future, it will be treated as `np.float64 == np.dtype(float).type`.\n",
      "  from ._conv import register_converters as _register_converters\n",
      "Using TensorFlow backend.\n"
     ]
    }
   ],
   "source": [
    "from keras.models import load_model\n",
    "import numpy as np\n",
    "from keras.preprocessing import image\n",
    "from keras.preprocessing.image import load_img\n",
    "\n",
    "model = load_model('model/model.hdf5')"
   ]
  },
  {
   "cell_type": "code",
   "execution_count": 4,
   "metadata": {
    "collapsed": false
   },
   "outputs": [
    {
     "name": "stdout",
     "output_type": "stream",
     "text": [
      "[[1. 0. 0. 0.]]\n"
     ]
    }
   ],
   "source": [
    "img = load_img('data/1',target_size=(150,150))\n",
    "img = image.img_to_array(img) / 255.0\n",
    "img = np.expand_dims(img, axis=0)\n",
    "predictions = model.predict(img)\n",
    "print (predictions)"
   ]
  },
  {
   "cell_type": "code",
   "execution_count": 11,
   "metadata": {
    "collapsed": false
   },
   "outputs": [
    {
     "name": "stdout",
     "output_type": "stream",
     "text": [
      "[[0. 0. 0. 1.]]\n"
     ]
    }
   ],
   "source": [
    "img = load_img('data/4',target_size=(150,150))\n",
    "img = image.img_to_array(img) / 255.0\n",
    "img = np.expand_dims(img, axis=0)\n",
    "predictions = model.predict(img)\n",
    "print (predictions)"
   ]
  },
  {
   "cell_type": "code",
   "execution_count": 13,
   "metadata": {
    "collapsed": false
   },
   "outputs": [
    {
     "name": "stdout",
     "output_type": "stream",
     "text": [
      "[[0. 0. 1. 0.]]\n"
     ]
    }
   ],
   "source": [
    "img = load_img('data/3',target_size=(150,150))\n",
    "img = image.img_to_array(img) / 255.0\n",
    "img = np.expand_dims(img, axis=0)\n",
    "predictions = model.predict(img)\n",
    "print (predictions)"
   ]
  },
  {
   "cell_type": "code",
   "execution_count": 18,
   "metadata": {
    "collapsed": false
   },
   "outputs": [
    {
     "name": "stdout",
     "output_type": "stream",
     "text": [
      "[[0.04539079 0.7985343  0.13869229 0.01738265]]\n"
     ]
    }
   ],
   "source": [
    "img = load_img('data/2',target_size=(150,150))\n",
    "img = image.img_to_array(img) / 255.0\n",
    "img = np.expand_dims(img, axis=0)\n",
    "predictions = model.predict(img)\n",
    "print (predictions)"
   ]
  }
 ],
 "metadata": {
  "kernelspec": {
   "display_name": "Python 3",
   "language": "python",
   "name": "python3"
  },
  "language_info": {
   "codemirror_mode": {
    "name": "ipython",
    "version": 3
   },
   "file_extension": ".py",
   "mimetype": "text/x-python",
   "name": "python",
   "nbconvert_exporter": "python",
   "pygments_lexer": "ipython3",
   "version": "3.6.0"
  }
 },
 "nbformat": 4,
 "nbformat_minor": 2
}
